{
 "cells": [
  {
   "cell_type": "code",
   "execution_count": 100,
   "metadata": {},
   "outputs": [],
   "source": [
    "import pandas as pd\n",
    "import pprint\n",
    "import subprocess\n",
    "import os\n",
    "import datetime\n",
    "import pandas as pd\n",
    "from tqdm import tqdm\n",
    "import time\n",
    "import requests\n",
    "import os\n",
    "import re\n",
    "import logging\n",
    "from PIL import Image\n",
    "import csv\n",
    "from io import BytesIO\n",
    "from time import sleep\n",
    "from typing import Any, BinaryIO, Dict, Iterable, List, Optional, Tuple\n",
    "\n",
    "from pyinaturalist import get_observations"
   ]
  },
  {
   "cell_type": "code",
   "execution_count": 107,
   "metadata": {},
   "outputs": [
    {
     "name": "stdout",
     "output_type": "stream",
     "text": [
      "Downloading from https://www.kaggle.com/api/v1/datasets/download/iamsouravbanerjee/animal-image-dataset-90-different-animals?dataset_version_number=5...\n"
     ]
    },
    {
     "name": "stderr",
     "output_type": "stream",
     "text": [
      "100%|██████████| 656M/656M [02:36<00:00, 4.41MB/s] "
     ]
    },
    {
     "name": "stdout",
     "output_type": "stream",
     "text": [
      "Extracting files...\n"
     ]
    },
    {
     "name": "stderr",
     "output_type": "stream",
     "text": [
      "\n"
     ]
    },
    {
     "name": "stdout",
     "output_type": "stream",
     "text": [
      "Path to dataset files: /Users/nandapop/.cache/kagglehub/datasets/iamsouravbanerjee/animal-image-dataset-90-different-animals/versions/5\n"
     ]
    }
   ],
   "source": [
    "import kagglehub\n",
    "\n",
    "# Download the latest version of the dataset\n",
    "path = kagglehub.dataset_download(\"iamsouravbanerjee/animal-image-dataset-90-different-animals\")\n",
    "\n",
    "print(\"Path to dataset files:\", path)\n"
   ]
  },
  {
   "cell_type": "code",
   "execution_count": 13,
   "metadata": {},
   "outputs": [],
   "source": [
    "observations_file = 'observations.csv'\n",
    "photos_file = 'photos.csv'\n",
    "taxa_file = 'taxa.csv'\n"
   ]
  },
  {
   "cell_type": "code",
   "execution_count": 14,
   "metadata": {},
   "outputs": [
    {
     "data": {
      "text/html": [
       "<pre style=\"white-space:pre;overflow-x:auto;line-height:normal;font-family:Menlo,'DejaVu Sans Mono',consolas,'Courier New',monospace\"></pre>\n"
      ],
      "text/plain": []
     },
     "metadata": {},
     "output_type": "display_data"
    },
    {
     "data": {
      "text/html": [
       "<div>\n",
       "<style scoped>\n",
       "    .dataframe tbody tr th:only-of-type {\n",
       "        vertical-align: middle;\n",
       "    }\n",
       "\n",
       "    .dataframe tbody tr th {\n",
       "        vertical-align: top;\n",
       "    }\n",
       "\n",
       "    .dataframe thead th {\n",
       "        text-align: right;\n",
       "    }\n",
       "</style>\n",
       "<table border=\"1\" class=\"dataframe\">\n",
       "  <thead>\n",
       "    <tr style=\"text-align: right;\">\n",
       "      <th></th>\n",
       "      <th>taxon_id</th>\n",
       "      <th>ancestry</th>\n",
       "      <th>rank_level</th>\n",
       "      <th>rank</th>\n",
       "      <th>name</th>\n",
       "      <th>active</th>\n",
       "    </tr>\n",
       "  </thead>\n",
       "  <tbody>\n",
       "    <tr>\n",
       "      <th>0</th>\n",
       "      <td>8943</td>\n",
       "      <td>48460/1/2/355675/3/7251/980017</td>\n",
       "      <td>20</td>\n",
       "      <td>genus</td>\n",
       "      <td>Calyptura</td>\n",
       "      <td>True</td>\n",
       "    </tr>\n",
       "    <tr>\n",
       "      <th>1</th>\n",
       "      <td>5270</td>\n",
       "      <td>48460/1/2/355675/3/71261/5067/5269</td>\n",
       "      <td>10</td>\n",
       "      <td>species</td>\n",
       "      <td>Ichthyophaga ichthyaetus</td>\n",
       "      <td>False</td>\n",
       "    </tr>\n",
       "    <tr>\n",
       "      <th>2</th>\n",
       "      <td>2031</td>\n",
       "      <td>48460/1/2/355675/3/573/2017/2030</td>\n",
       "      <td>10</td>\n",
       "      <td>species</td>\n",
       "      <td>Talegalla jobiensis</td>\n",
       "      <td>True</td>\n",
       "    </tr>\n",
       "    <tr>\n",
       "      <th>3</th>\n",
       "      <td>27</td>\n",
       "      <td>48460/1/2/355675/3/4/23/24</td>\n",
       "      <td>10</td>\n",
       "      <td>species</td>\n",
       "      <td>Grus canadensis</td>\n",
       "      <td>False</td>\n",
       "    </tr>\n",
       "    <tr>\n",
       "      <th>4</th>\n",
       "      <td>8606</td>\n",
       "      <td>48460/1/2/355675/3/7251/71348/8605</td>\n",
       "      <td>10</td>\n",
       "      <td>species</td>\n",
       "      <td>Lophorina superba</td>\n",
       "      <td>False</td>\n",
       "    </tr>\n",
       "  </tbody>\n",
       "</table>\n",
       "</div>"
      ],
      "text/plain": [
       "\n",
       "   taxon_id                            ancestry  rank_level     rank  \\\n",
       "\u001b[1;36m0\u001b[0m      \u001b[1;36m8943\u001b[0m      \u001b[1;36m48460\u001b[0m/\u001b[1;36m1\u001b[0m/\u001b[1;36m2\u001b[0m/\u001b[1;36m355675\u001b[0m/\u001b[1;36m3\u001b[0m/\u001b[1;36m7251\u001b[0m/\u001b[1;36m980017\u001b[0m          \u001b[1;36m20\u001b[0m    genus   \n",
       "\u001b[1;36m1\u001b[0m      \u001b[1;36m5270\u001b[0m  \u001b[1;36m48460\u001b[0m/\u001b[1;36m1\u001b[0m/\u001b[1;36m2\u001b[0m/\u001b[1;36m355675\u001b[0m/\u001b[1;36m3\u001b[0m/\u001b[1;36m71261\u001b[0m/\u001b[1;36m5067\u001b[0m/\u001b[1;36m5269\u001b[0m          \u001b[1;36m10\u001b[0m  species   \n",
       "\u001b[1;36m2\u001b[0m      \u001b[1;36m2031\u001b[0m    \u001b[1;36m48460\u001b[0m/\u001b[1;36m1\u001b[0m/\u001b[1;36m2\u001b[0m/\u001b[1;36m355675\u001b[0m/\u001b[1;36m3\u001b[0m/\u001b[1;36m573\u001b[0m/\u001b[1;36m2017\u001b[0m/\u001b[1;36m2030\u001b[0m          \u001b[1;36m10\u001b[0m  species   \n",
       "\u001b[1;36m3\u001b[0m        \u001b[1;36m27\u001b[0m          \u001b[1;36m48460\u001b[0m/\u001b[1;36m1\u001b[0m/\u001b[1;36m2\u001b[0m/\u001b[1;36m355675\u001b[0m/\u001b[1;36m3\u001b[0m/\u001b[1;36m4\u001b[0m/\u001b[1;36m23\u001b[0m/\u001b[1;36m24\u001b[0m          \u001b[1;36m10\u001b[0m  species   \n",
       "\u001b[1;36m4\u001b[0m      \u001b[1;36m8606\u001b[0m  \u001b[1;36m48460\u001b[0m/\u001b[1;36m1\u001b[0m/\u001b[1;36m2\u001b[0m/\u001b[1;36m355675\u001b[0m/\u001b[1;36m3\u001b[0m/\u001b[1;36m7251\u001b[0m/\u001b[1;36m71348\u001b[0m/\u001b[1;36m8605\u001b[0m          \u001b[1;36m10\u001b[0m  species   \n",
       "\n",
       "                       name  active  \n",
       "\u001b[1;36m0\u001b[0m                 Calyptura    \u001b[3;92mTrue\u001b[0m  \n",
       "\u001b[1;36m1\u001b[0m  Ichthyophaga ichthyaetus   \u001b[3;91mFalse\u001b[0m  \n",
       "\u001b[1;36m2\u001b[0m       Talegalla jobiensis    \u001b[3;92mTrue\u001b[0m  \n",
       "\u001b[1;36m3\u001b[0m           Grus canadensis   \u001b[3;91mFalse\u001b[0m  \n",
       "\u001b[1;36m4\u001b[0m         Lophorina superba   \u001b[3;91mFalse\u001b[0m  "
      ]
     },
     "execution_count": 14,
     "metadata": {},
     "output_type": "execute_result"
    }
   ],
   "source": [
    "taxa_samples = pd.read_csv('/Volumes/Ramirez/inaturalist-open-data/taxa.csv',sep='\\t',nrows=5)\n",
    "taxa_samples"
   ]
  },
  {
   "cell_type": "code",
   "execution_count": 28,
   "metadata": {},
   "outputs": [
    {
     "name": "stdout",
     "output_type": "stream",
     "text": [
      "Index(['observation_uuid', 'observer_id', 'latitude', 'longitude',\n",
      "       'positional_accuracy', 'taxon_id', 'quality_grade', 'observed_on'],\n",
      "      dtype='object')\n",
      "<class 'pandas.core.frame.DataFrame'>\n",
      "RangeIndex: 5 entries, 0 to 4\n",
      "Data columns (total 8 columns):\n",
      " #   Column               Non-Null Count  Dtype  \n",
      "---  ------               --------------  -----  \n",
      " 0   observation_uuid     5 non-null      object \n",
      " 1   observer_id          5 non-null      int64  \n",
      " 2   latitude             5 non-null      float64\n",
      " 3   longitude            5 non-null      float64\n",
      " 4   positional_accuracy  0 non-null      float64\n",
      " 5   taxon_id             5 non-null      int64  \n",
      " 6   quality_grade        5 non-null      object \n",
      " 7   observed_on          5 non-null      object \n",
      "dtypes: float64(3), int64(2), object(3)\n",
      "memory usage: 448.0+ bytes\n"
     ]
    }
   ],
   "source": [
    "observations_sample = pd.read_csv('/Volumes/Ramirez/inaturalist-open-data/observations.csv',sep='\\t',nrows=5)\n",
    "print(observations_sample.columns)\n",
    "observations_sample.info()"
   ]
  },
  {
   "cell_type": "code",
   "execution_count": 67,
   "metadata": {},
   "outputs": [],
   "source": [
    "observations_cols = ['observation_uuid', 'latitude','longitude', 'taxon_id', 'observed_on']\n",
    "observations_file = '/Volumes/Ramirez/inaturalist-open-data/observations.csv'\n",
    "#output_file = '/Users/nandapop/Documents/Bootcamp/iNaturalist/data/raw/processed_observations.csv'\n",
    "output_file = '/Volumes/Ramirez/inaturalist-open-data/processed/processed_observations2.csv'"
   ]
  },
  {
   "cell_type": "code",
   "execution_count": 68,
   "metadata": {},
   "outputs": [],
   "source": [
    "observations_chunks = pd.read_csv(\n",
    "    observations_file,\n",
    "    sep='\\t',\n",
    "    usecols=observations_cols,\n",
    "    chunksize= 70000\n",
    ")\n",
    "\n",
    "is_first_chunk = True\n",
    "\n",
    "for chunk in observations_chunks:\n",
    "  \n",
    "    chunk['processed'] = True\n",
    "    \n",
    "    # Save the chunk to CSV\n",
    "    if is_first_chunk:\n",
    "        # Write the header for the first chunk\n",
    "        chunk.to_csv(output_file, index=False)\n",
    "        is_first_chunk = False\n",
    "    else:\n",
    "        # Append to the CSV file without writing the header\n",
    "        chunk.to_csv(output_file, mode='a', header=False, index=False)\n"
   ]
  },
  {
   "cell_type": "code",
   "execution_count": 55,
   "metadata": {},
   "outputs": [
    {
     "data": {
      "text/html": [
       "<pre style=\"white-space:pre;overflow-x:auto;line-height:normal;font-family:Menlo,'DejaVu Sans Mono',consolas,'Courier New',monospace\"></pre>\n"
      ],
      "text/plain": []
     },
     "metadata": {},
     "output_type": "display_data"
    },
    {
     "data": {
      "text/html": [
       "<div>\n",
       "<style scoped>\n",
       "    .dataframe tbody tr th:only-of-type {\n",
       "        vertical-align: middle;\n",
       "    }\n",
       "\n",
       "    .dataframe tbody tr th {\n",
       "        vertical-align: top;\n",
       "    }\n",
       "\n",
       "    .dataframe thead th {\n",
       "        text-align: right;\n",
       "    }\n",
       "</style>\n",
       "<table border=\"1\" class=\"dataframe\">\n",
       "  <thead>\n",
       "    <tr style=\"text-align: right;\">\n",
       "      <th></th>\n",
       "      <th>observation_uuid</th>\n",
       "      <th>latitude</th>\n",
       "      <th>longitude</th>\n",
       "      <th>taxon_id</th>\n",
       "      <th>observed_on</th>\n",
       "      <th>processed</th>\n",
       "    </tr>\n",
       "  </thead>\n",
       "  <tbody>\n",
       "    <tr>\n",
       "      <th>0</th>\n",
       "      <td>7ae155fc-f49e-4e4f-91c5-51e31e805478</td>\n",
       "      <td>32.189935</td>\n",
       "      <td>-80.758484</td>\n",
       "      <td>203485.0</td>\n",
       "      <td>2009-10-31</td>\n",
       "      <td>True</td>\n",
       "    </tr>\n",
       "    <tr>\n",
       "      <th>1</th>\n",
       "      <td>05baefa2-028c-4c6a-b459-37f7161ca374</td>\n",
       "      <td>33.430609</td>\n",
       "      <td>-111.027062</td>\n",
       "      <td>153887.0</td>\n",
       "      <td>2009-08-15</td>\n",
       "      <td>True</td>\n",
       "    </tr>\n",
       "    <tr>\n",
       "      <th>2</th>\n",
       "      <td>5c63a4aa-9828-4f6f-b181-7e71b4af24fa</td>\n",
       "      <td>33.404743</td>\n",
       "      <td>-111.937348</td>\n",
       "      <td>313499.0</td>\n",
       "      <td>2009-08-22</td>\n",
       "      <td>True</td>\n",
       "    </tr>\n",
       "    <tr>\n",
       "      <th>3</th>\n",
       "      <td>e9bfdce3-556c-4506-890b-9e65d241a929</td>\n",
       "      <td>33.430609</td>\n",
       "      <td>-111.027062</td>\n",
       "      <td>790491.0</td>\n",
       "      <td>2009-08-15</td>\n",
       "      <td>True</td>\n",
       "    </tr>\n",
       "    <tr>\n",
       "      <th>4</th>\n",
       "      <td>19ad8eca-938a-4031-ba75-edee2749b247</td>\n",
       "      <td>32.216316</td>\n",
       "      <td>-80.752608</td>\n",
       "      <td>48505.0</td>\n",
       "      <td>2007-10-31</td>\n",
       "      <td>True</td>\n",
       "    </tr>\n",
       "  </tbody>\n",
       "</table>\n",
       "</div>"
      ],
      "text/plain": [
       "\n",
       "                       observation_uuid   latitude   longitude  taxon_id  \\\n",
       "\u001b[1;36m0\u001b[0m  \u001b[93m7ae155fc-f49e-4e4f-91c5-51e31e805478\u001b[0m  \u001b[1;36m32.189935\u001b[0m  \u001b[1;36m-80.758484\u001b[0m  \u001b[1;36m203485.0\u001b[0m   \n",
       "\u001b[1;36m1\u001b[0m  \u001b[93m05baefa2-028c-4c6a-b459-37f7161ca374\u001b[0m  \u001b[1;36m33.430609\u001b[0m \u001b[1;36m-111.027062\u001b[0m  \u001b[1;36m153887.0\u001b[0m   \n",
       "\u001b[1;36m2\u001b[0m  \u001b[93m5c63a4aa-9828-4f6f-b181-7e71b4af24fa\u001b[0m  \u001b[1;36m33.404743\u001b[0m \u001b[1;36m-111.937348\u001b[0m  \u001b[1;36m313499.0\u001b[0m   \n",
       "\u001b[1;36m3\u001b[0m  \u001b[93me9bfdce3-556c-4506-890b-9e65d241a929\u001b[0m  \u001b[1;36m33.430609\u001b[0m \u001b[1;36m-111.027062\u001b[0m  \u001b[1;36m790491.0\u001b[0m   \n",
       "\u001b[1;36m4\u001b[0m  \u001b[93m19ad8eca-938a-4031-ba75-edee2749b247\u001b[0m  \u001b[1;36m32.216316\u001b[0m  \u001b[1;36m-80.752608\u001b[0m   \u001b[1;36m48505.0\u001b[0m   \n",
       "\n",
       "  observed_on  processed  \n",
       "\u001b[1;36m0\u001b[0m  \u001b[1;36m2009\u001b[0m-\u001b[1;36m10\u001b[0m-\u001b[1;36m31\u001b[0m       \u001b[3;92mTrue\u001b[0m  \n",
       "\u001b[1;36m1\u001b[0m  \u001b[1;36m2009\u001b[0m-\u001b[1;36m08\u001b[0m-\u001b[1;36m15\u001b[0m       \u001b[3;92mTrue\u001b[0m  \n",
       "\u001b[1;36m2\u001b[0m  \u001b[1;36m2009\u001b[0m-\u001b[1;36m08\u001b[0m-\u001b[1;36m22\u001b[0m       \u001b[3;92mTrue\u001b[0m  \n",
       "\u001b[1;36m3\u001b[0m  \u001b[1;36m2009\u001b[0m-\u001b[1;36m08\u001b[0m-\u001b[1;36m15\u001b[0m       \u001b[3;92mTrue\u001b[0m  \n",
       "\u001b[1;36m4\u001b[0m  \u001b[1;36m2007\u001b[0m-\u001b[1;36m10\u001b[0m-\u001b[1;36m31\u001b[0m       \u001b[3;92mTrue\u001b[0m  "
      ]
     },
     "execution_count": 55,
     "metadata": {},
     "output_type": "execute_result"
    }
   ],
   "source": [
    "chunk_observations= pd.read_csv('data/raw/processed_observations.csv')\n",
    "chunk_observations.head()"
   ]
  },
  {
   "cell_type": "code",
   "execution_count": 76,
   "metadata": {},
   "outputs": [
    {
     "data": {
      "text/html": [
       "<pre style=\"white-space:pre;overflow-x:auto;line-height:normal;font-family:Menlo,'DejaVu Sans Mono',consolas,'Courier New',monospace\"></pre>\n"
      ],
      "text/plain": []
     },
     "metadata": {},
     "output_type": "display_data"
    },
    {
     "data": {
      "text/html": [
       "<div>\n",
       "<style scoped>\n",
       "    .dataframe tbody tr th:only-of-type {\n",
       "        vertical-align: middle;\n",
       "    }\n",
       "\n",
       "    .dataframe tbody tr th {\n",
       "        vertical-align: top;\n",
       "    }\n",
       "\n",
       "    .dataframe thead th {\n",
       "        text-align: right;\n",
       "    }\n",
       "</style>\n",
       "<table border=\"1\" class=\"dataframe\">\n",
       "  <thead>\n",
       "    <tr style=\"text-align: right;\">\n",
       "      <th></th>\n",
       "      <th>observation_uuid</th>\n",
       "      <th>observer_id</th>\n",
       "      <th>latitude</th>\n",
       "      <th>longitude</th>\n",
       "      <th>positional_accuracy</th>\n",
       "      <th>taxon_id</th>\n",
       "      <th>quality_grade</th>\n",
       "      <th>observed_on</th>\n",
       "    </tr>\n",
       "  </thead>\n",
       "  <tbody>\n",
       "    <tr>\n",
       "      <th>0</th>\n",
       "      <td>7ae155fc-f49e-4e4f-91c5-51e31e805478</td>\n",
       "      <td>516</td>\n",
       "      <td>32.189935</td>\n",
       "      <td>-80.758484</td>\n",
       "      <td>NaN</td>\n",
       "      <td>203485.0</td>\n",
       "      <td>research</td>\n",
       "      <td>2009-10-31</td>\n",
       "    </tr>\n",
       "    <tr>\n",
       "      <th>1</th>\n",
       "      <td>05baefa2-028c-4c6a-b459-37f7161ca374</td>\n",
       "      <td>516</td>\n",
       "      <td>33.430609</td>\n",
       "      <td>-111.027062</td>\n",
       "      <td>NaN</td>\n",
       "      <td>153887.0</td>\n",
       "      <td>research</td>\n",
       "      <td>2009-08-15</td>\n",
       "    </tr>\n",
       "    <tr>\n",
       "      <th>2</th>\n",
       "      <td>5c63a4aa-9828-4f6f-b181-7e71b4af24fa</td>\n",
       "      <td>516</td>\n",
       "      <td>33.404743</td>\n",
       "      <td>-111.937348</td>\n",
       "      <td>NaN</td>\n",
       "      <td>313499.0</td>\n",
       "      <td>research</td>\n",
       "      <td>2009-08-22</td>\n",
       "    </tr>\n",
       "    <tr>\n",
       "      <th>3</th>\n",
       "      <td>e9bfdce3-556c-4506-890b-9e65d241a929</td>\n",
       "      <td>516</td>\n",
       "      <td>33.430609</td>\n",
       "      <td>-111.027062</td>\n",
       "      <td>NaN</td>\n",
       "      <td>790491.0</td>\n",
       "      <td>research</td>\n",
       "      <td>2009-08-15</td>\n",
       "    </tr>\n",
       "    <tr>\n",
       "      <th>4</th>\n",
       "      <td>19ad8eca-938a-4031-ba75-edee2749b247</td>\n",
       "      <td>516</td>\n",
       "      <td>32.216316</td>\n",
       "      <td>-80.752608</td>\n",
       "      <td>NaN</td>\n",
       "      <td>48505.0</td>\n",
       "      <td>research</td>\n",
       "      <td>2007-10-31</td>\n",
       "    </tr>\n",
       "  </tbody>\n",
       "</table>\n",
       "</div>"
      ],
      "text/plain": [
       "\n",
       "                       observation_uuid  observer_id   latitude   longitude  \\\n",
       "\u001b[1;36m0\u001b[0m  \u001b[93m7ae155fc-f49e-4e4f-91c5-51e31e805478\u001b[0m          \u001b[1;36m516\u001b[0m  \u001b[1;36m32.189935\u001b[0m  \u001b[1;36m-80.758484\u001b[0m   \n",
       "\u001b[1;36m1\u001b[0m  \u001b[93m05baefa2-028c-4c6a-b459-37f7161ca374\u001b[0m          \u001b[1;36m516\u001b[0m  \u001b[1;36m33.430609\u001b[0m \u001b[1;36m-111.027062\u001b[0m   \n",
       "\u001b[1;36m2\u001b[0m  \u001b[93m5c63a4aa-9828-4f6f-b181-7e71b4af24fa\u001b[0m          \u001b[1;36m516\u001b[0m  \u001b[1;36m33.404743\u001b[0m \u001b[1;36m-111.937348\u001b[0m   \n",
       "\u001b[1;36m3\u001b[0m  \u001b[93me9bfdce3-556c-4506-890b-9e65d241a929\u001b[0m          \u001b[1;36m516\u001b[0m  \u001b[1;36m33.430609\u001b[0m \u001b[1;36m-111.027062\u001b[0m   \n",
       "\u001b[1;36m4\u001b[0m  \u001b[93m19ad8eca-938a-4031-ba75-edee2749b247\u001b[0m          \u001b[1;36m516\u001b[0m  \u001b[1;36m32.216316\u001b[0m  \u001b[1;36m-80.752608\u001b[0m   \n",
       "\n",
       "   positional_accuracy  taxon_id quality_grade observed_on  \n",
       "\u001b[1;36m0\u001b[0m                  NaN  \u001b[1;36m203485.0\u001b[0m      research  \u001b[1;36m2009\u001b[0m-\u001b[1;36m10\u001b[0m-\u001b[1;36m31\u001b[0m  \n",
       "\u001b[1;36m1\u001b[0m                  NaN  \u001b[1;36m153887.0\u001b[0m      research  \u001b[1;36m2009\u001b[0m-\u001b[1;36m08\u001b[0m-\u001b[1;36m15\u001b[0m  \n",
       "\u001b[1;36m2\u001b[0m                  NaN  \u001b[1;36m313499.0\u001b[0m      research  \u001b[1;36m2009\u001b[0m-\u001b[1;36m08\u001b[0m-\u001b[1;36m22\u001b[0m  \n",
       "\u001b[1;36m3\u001b[0m                  NaN  \u001b[1;36m790491.0\u001b[0m      research  \u001b[1;36m2009\u001b[0m-\u001b[1;36m08\u001b[0m-\u001b[1;36m15\u001b[0m  \n",
       "\u001b[1;36m4\u001b[0m                  NaN   \u001b[1;36m48505.0\u001b[0m      research  \u001b[1;36m2007\u001b[0m-\u001b[1;36m10\u001b[0m-\u001b[1;36m31\u001b[0m  "
      ]
     },
     "execution_count": 76,
     "metadata": {},
     "output_type": "execute_result"
    }
   ],
   "source": [
    "chunk_observations2 = pd.read_csv('/Volumes/Ramirez/inaturalist-open-data/observations.csv',sep='\\t',nrows=70000)\n",
    "chunk_observations2.head()\n"
   ]
  },
  {
   "cell_type": "code",
   "execution_count": 77,
   "metadata": {},
   "outputs": [
    {
     "data": {
      "text/html": [
       "<pre style=\"white-space:pre;overflow-x:auto;line-height:normal;font-family:Menlo,'DejaVu Sans Mono',consolas,'Courier New',monospace\"></pre>\n"
      ],
      "text/plain": []
     },
     "metadata": {},
     "output_type": "display_data"
    },
    {
     "data": {
      "text/plain": [
       "\n",
       "observation_uuid           \u001b[1;36m0\u001b[0m\n",
       "observer_id                \u001b[1;36m0\u001b[0m\n",
       "latitude                 \u001b[1;36m888\u001b[0m\n",
       "longitude                \u001b[1;36m888\u001b[0m\n",
       "positional_accuracy    \u001b[1;36m37594\u001b[0m\n",
       "taxon_id                  \u001b[1;36m20\u001b[0m\n",
       "quality_grade              \u001b[1;36m0\u001b[0m\n",
       "observed_on              \u001b[1;36m338\u001b[0m\n",
       "dtype: int64"
      ]
     },
     "execution_count": 77,
     "metadata": {},
     "output_type": "execute_result"
    }
   ],
   "source": [
    "chunk_observations2.isnull().sum()"
   ]
  },
  {
   "cell_type": "code",
   "execution_count": 78,
   "metadata": {},
   "outputs": [],
   "source": [
    "chunk_observations2 = chunk_observations2.dropna()"
   ]
  },
  {
   "cell_type": "code",
   "execution_count": 79,
   "metadata": {},
   "outputs": [
    {
     "data": {
      "text/html": [
       "<pre style=\"white-space:pre;overflow-x:auto;line-height:normal;font-family:Menlo,'DejaVu Sans Mono',consolas,'Courier New',monospace\"></pre>\n"
      ],
      "text/plain": []
     },
     "metadata": {},
     "output_type": "display_data"
    },
    {
     "data": {
      "text/plain": [
       "\n",
       "observation_uuid       \u001b[1;36m0\u001b[0m\n",
       "observer_id            \u001b[1;36m0\u001b[0m\n",
       "latitude               \u001b[1;36m0\u001b[0m\n",
       "longitude              \u001b[1;36m0\u001b[0m\n",
       "positional_accuracy    \u001b[1;36m0\u001b[0m\n",
       "taxon_id               \u001b[1;36m0\u001b[0m\n",
       "quality_grade          \u001b[1;36m0\u001b[0m\n",
       "observed_on            \u001b[1;36m0\u001b[0m\n",
       "dtype: int64"
      ]
     },
     "execution_count": 79,
     "metadata": {},
     "output_type": "execute_result"
    }
   ],
   "source": [
    "chunk_observations2.isnull().sum()"
   ]
  },
  {
   "cell_type": "code",
   "execution_count": 80,
   "metadata": {},
   "outputs": [
    {
     "data": {
      "text/html": [
       "<pre style=\"white-space:pre;overflow-x:auto;line-height:normal;font-family:Menlo,'DejaVu Sans Mono',consolas,'Courier New',monospace\"></pre>\n"
      ],
      "text/plain": []
     },
     "metadata": {},
     "output_type": "display_data"
    },
    {
     "data": {
      "text/plain": [
       "\u001b[1;36m0\u001b[0m"
      ]
     },
     "execution_count": 80,
     "metadata": {},
     "output_type": "execute_result"
    }
   ],
   "source": [
    "chunk_observations2.duplicated().sum()"
   ]
  },
  {
   "cell_type": "code",
   "execution_count": 2,
   "metadata": {},
   "outputs": [
    {
     "name": "stdout",
     "output_type": "stream",
     "text": [
      "Index(['photo_uuid', 'photo_id', 'observation_uuid', 'observer_id',\n",
      "       'extension', 'license', 'width', 'height', 'position'],\n",
      "      dtype='object')\n",
      "<class 'pandas.core.frame.DataFrame'>\n",
      "RangeIndex: 5 entries, 0 to 4\n",
      "Data columns (total 9 columns):\n",
      " #   Column            Non-Null Count  Dtype \n",
      "---  ------            --------------  ----- \n",
      " 0   photo_uuid        5 non-null      object\n",
      " 1   photo_id          5 non-null      int64 \n",
      " 2   observation_uuid  5 non-null      object\n",
      " 3   observer_id       5 non-null      int64 \n",
      " 4   extension         5 non-null      object\n",
      " 5   license           5 non-null      object\n",
      " 6   width             5 non-null      int64 \n",
      " 7   height            5 non-null      int64 \n",
      " 8   position          5 non-null      int64 \n",
      "dtypes: int64(5), object(4)\n",
      "memory usage: 488.0+ bytes\n"
     ]
    },
    {
     "data": {
      "text/html": [
       "<pre style=\"white-space:pre;overflow-x:auto;line-height:normal;font-family:Menlo,'DejaVu Sans Mono',consolas,'Courier New',monospace\"></pre>\n"
      ],
      "text/plain": []
     },
     "metadata": {},
     "output_type": "display_data"
    },
    {
     "data": {
      "text/html": [
       "<div>\n",
       "<style scoped>\n",
       "    .dataframe tbody tr th:only-of-type {\n",
       "        vertical-align: middle;\n",
       "    }\n",
       "\n",
       "    .dataframe tbody tr th {\n",
       "        vertical-align: top;\n",
       "    }\n",
       "\n",
       "    .dataframe thead th {\n",
       "        text-align: right;\n",
       "    }\n",
       "</style>\n",
       "<table border=\"1\" class=\"dataframe\">\n",
       "  <thead>\n",
       "    <tr style=\"text-align: right;\">\n",
       "      <th></th>\n",
       "      <th>photo_uuid</th>\n",
       "      <th>photo_id</th>\n",
       "      <th>observation_uuid</th>\n",
       "      <th>observer_id</th>\n",
       "      <th>extension</th>\n",
       "      <th>license</th>\n",
       "      <th>width</th>\n",
       "      <th>height</th>\n",
       "      <th>position</th>\n",
       "    </tr>\n",
       "  </thead>\n",
       "  <tbody>\n",
       "    <tr>\n",
       "      <th>0</th>\n",
       "      <td>8d6b2534-d30a-47a8-bc1c-986a21817997</td>\n",
       "      <td>21213</td>\n",
       "      <td>7ae155fc-f49e-4e4f-91c5-51e31e805478</td>\n",
       "      <td>516</td>\n",
       "      <td>jpg</td>\n",
       "      <td>CC-BY-NC</td>\n",
       "      <td>584</td>\n",
       "      <td>389</td>\n",
       "      <td>0</td>\n",
       "    </tr>\n",
       "    <tr>\n",
       "      <th>1</th>\n",
       "      <td>6e8112fd-f703-4052-94da-b7cfc03ff3d4</td>\n",
       "      <td>21216</td>\n",
       "      <td>7ae155fc-f49e-4e4f-91c5-51e31e805478</td>\n",
       "      <td>516</td>\n",
       "      <td>jpg</td>\n",
       "      <td>CC-BY-NC</td>\n",
       "      <td>584</td>\n",
       "      <td>389</td>\n",
       "      <td>1</td>\n",
       "    </tr>\n",
       "    <tr>\n",
       "      <th>2</th>\n",
       "      <td>49141c2f-48b0-4671-9cee-fce6efd11822</td>\n",
       "      <td>21215</td>\n",
       "      <td>05baefa2-028c-4c6a-b459-37f7161ca374</td>\n",
       "      <td>516</td>\n",
       "      <td>jpg</td>\n",
       "      <td>CC-BY-NC</td>\n",
       "      <td>584</td>\n",
       "      <td>389</td>\n",
       "      <td>0</td>\n",
       "    </tr>\n",
       "    <tr>\n",
       "      <th>3</th>\n",
       "      <td>71090faa-9110-4df7-bb8f-af2415fe2e72</td>\n",
       "      <td>21214</td>\n",
       "      <td>5c63a4aa-9828-4f6f-b181-7e71b4af24fa</td>\n",
       "      <td>516</td>\n",
       "      <td>jpg</td>\n",
       "      <td>CC-BY-NC</td>\n",
       "      <td>584</td>\n",
       "      <td>389</td>\n",
       "      <td>0</td>\n",
       "    </tr>\n",
       "    <tr>\n",
       "      <th>4</th>\n",
       "      <td>92c703d0-20f1-4da9-af9c-2a6bdb6db53b</td>\n",
       "      <td>21217</td>\n",
       "      <td>e9bfdce3-556c-4506-890b-9e65d241a929</td>\n",
       "      <td>516</td>\n",
       "      <td>jpg</td>\n",
       "      <td>CC-BY-NC</td>\n",
       "      <td>584</td>\n",
       "      <td>389</td>\n",
       "      <td>0</td>\n",
       "    </tr>\n",
       "  </tbody>\n",
       "</table>\n",
       "</div>"
      ],
      "text/plain": [
       "\n",
       "                             photo_uuid  photo_id  \\\n",
       "\u001b[1;36m0\u001b[0m  \u001b[93m8d6b2534-d30a-47a8-bc1c-986a21817997\u001b[0m     \u001b[1;36m21213\u001b[0m   \n",
       "\u001b[1;36m1\u001b[0m  \u001b[93m6e8112fd-f703-4052-94da-b7cfc03ff3d4\u001b[0m     \u001b[1;36m21216\u001b[0m   \n",
       "\u001b[1;36m2\u001b[0m  \u001b[93m49141c2f-48b0-4671-9cee-fce6efd11822\u001b[0m     \u001b[1;36m21215\u001b[0m   \n",
       "\u001b[1;36m3\u001b[0m  \u001b[93m71090faa-9110-4df7-bb8f-af2415fe2e72\u001b[0m     \u001b[1;36m21214\u001b[0m   \n",
       "\u001b[1;36m4\u001b[0m  \u001b[93m92c703d0-20f1-4da9-af9c-2a6bdb6db53b\u001b[0m     \u001b[1;36m21217\u001b[0m   \n",
       "\n",
       "                       observation_uuid  observer_id extension   license  \\\n",
       "\u001b[1;36m0\u001b[0m  \u001b[93m7ae155fc-f49e-4e4f-91c5-51e31e805478\u001b[0m          \u001b[1;36m516\u001b[0m       jpg  CC-BY-NC   \n",
       "\u001b[1;36m1\u001b[0m  \u001b[93m7ae155fc-f49e-4e4f-91c5-51e31e805478\u001b[0m          \u001b[1;36m516\u001b[0m       jpg  CC-BY-NC   \n",
       "\u001b[1;36m2\u001b[0m  \u001b[93m05baefa2-028c-4c6a-b459-37f7161ca374\u001b[0m          \u001b[1;36m516\u001b[0m       jpg  CC-BY-NC   \n",
       "\u001b[1;36m3\u001b[0m  \u001b[93m5c63a4aa-9828-4f6f-b181-7e71b4af24fa\u001b[0m          \u001b[1;36m516\u001b[0m       jpg  CC-BY-NC   \n",
       "\u001b[1;36m4\u001b[0m  \u001b[93me9bfdce3-556c-4506-890b-9e65d241a929\u001b[0m          \u001b[1;36m516\u001b[0m       jpg  CC-BY-NC   \n",
       "\n",
       "   width  height  position  \n",
       "\u001b[1;36m0\u001b[0m    \u001b[1;36m584\u001b[0m     \u001b[1;36m389\u001b[0m         \u001b[1;36m0\u001b[0m  \n",
       "\u001b[1;36m1\u001b[0m    \u001b[1;36m584\u001b[0m     \u001b[1;36m389\u001b[0m         \u001b[1;36m1\u001b[0m  \n",
       "\u001b[1;36m2\u001b[0m    \u001b[1;36m584\u001b[0m     \u001b[1;36m389\u001b[0m         \u001b[1;36m0\u001b[0m  \n",
       "\u001b[1;36m3\u001b[0m    \u001b[1;36m584\u001b[0m     \u001b[1;36m389\u001b[0m         \u001b[1;36m0\u001b[0m  \n",
       "\u001b[1;36m4\u001b[0m    \u001b[1;36m584\u001b[0m     \u001b[1;36m389\u001b[0m         \u001b[1;36m0\u001b[0m  "
      ]
     },
     "execution_count": 2,
     "metadata": {},
     "output_type": "execute_result"
    }
   ],
   "source": [
    "photos_sample = pd.read_csv('/Volumes/Ramirez/inaturalist-open-data/photos.csv',sep='\\t',nrows=5)\n",
    "print(photos_sample.columns)\n",
    "photos_sample.info()\n",
    "photos_sample.head()"
   ]
  },
  {
   "cell_type": "code",
   "execution_count": 42,
   "metadata": {},
   "outputs": [],
   "source": [
    "photos_cols = ['photo_uuid', 'photo_id','observation_uuid', 'extension']\n",
    "photos_file = '/Volumes/Ramirez/inaturalist-open-data/photos.csv'\n",
    "output_file = '/Users/nandapop/Documents/Bootcamp/iNaturalist/data/raw/processed_photos.csv'"
   ]
  },
  {
   "cell_type": "code",
   "execution_count": 5,
   "metadata": {},
   "outputs": [],
   "source": [
    "observations_chunks = pd.read_csv(\n",
    "    photos_file,\n",
    "    sep='\\t',\n",
    "    usecols=photos_cols,\n",
    "    chunksize= 40000\n",
    ")\n",
    "\n",
    "is_first_chunk = True\n",
    "\n",
    "for chunk in observations_chunks:\n",
    "  \n",
    "    chunk['processed'] = True\n",
    "    \n",
    "    # Save the chunk to CSV\n",
    "    if is_first_chunk:\n",
    "        # Write the header for the first chunk\n",
    "        chunk.to_csv(output_file, index=False)\n",
    "        is_first_chunk = False\n",
    "    else:\n",
    "        # Append to the CSV file without writing the header\n",
    "        chunk.to_csv(output_file, mode='a', header=False, index=False)\n"
   ]
  },
  {
   "cell_type": "code",
   "execution_count": 43,
   "metadata": {},
   "outputs": [
    {
     "data": {
      "text/html": [
       "<pre style=\"white-space:pre;overflow-x:auto;line-height:normal;font-family:Menlo,'DejaVu Sans Mono',consolas,'Courier New',monospace\"></pre>\n"
      ],
      "text/plain": []
     },
     "metadata": {},
     "output_type": "display_data"
    },
    {
     "data": {
      "text/html": [
       "<div>\n",
       "<style scoped>\n",
       "    .dataframe tbody tr th:only-of-type {\n",
       "        vertical-align: middle;\n",
       "    }\n",
       "\n",
       "    .dataframe tbody tr th {\n",
       "        vertical-align: top;\n",
       "    }\n",
       "\n",
       "    .dataframe thead th {\n",
       "        text-align: right;\n",
       "    }\n",
       "</style>\n",
       "<table border=\"1\" class=\"dataframe\">\n",
       "  <thead>\n",
       "    <tr style=\"text-align: right;\">\n",
       "      <th></th>\n",
       "      <th>photo_uuid</th>\n",
       "      <th>photo_id</th>\n",
       "      <th>observation_uuid</th>\n",
       "      <th>extension</th>\n",
       "      <th>processed</th>\n",
       "    </tr>\n",
       "  </thead>\n",
       "  <tbody>\n",
       "    <tr>\n",
       "      <th>0</th>\n",
       "      <td>8d6b2534-d30a-47a8-bc1c-986a21817997</td>\n",
       "      <td>21213</td>\n",
       "      <td>7ae155fc-f49e-4e4f-91c5-51e31e805478</td>\n",
       "      <td>jpg</td>\n",
       "      <td>True</td>\n",
       "    </tr>\n",
       "    <tr>\n",
       "      <th>1</th>\n",
       "      <td>6e8112fd-f703-4052-94da-b7cfc03ff3d4</td>\n",
       "      <td>21216</td>\n",
       "      <td>7ae155fc-f49e-4e4f-91c5-51e31e805478</td>\n",
       "      <td>jpg</td>\n",
       "      <td>True</td>\n",
       "    </tr>\n",
       "    <tr>\n",
       "      <th>2</th>\n",
       "      <td>49141c2f-48b0-4671-9cee-fce6efd11822</td>\n",
       "      <td>21215</td>\n",
       "      <td>05baefa2-028c-4c6a-b459-37f7161ca374</td>\n",
       "      <td>jpg</td>\n",
       "      <td>True</td>\n",
       "    </tr>\n",
       "    <tr>\n",
       "      <th>3</th>\n",
       "      <td>71090faa-9110-4df7-bb8f-af2415fe2e72</td>\n",
       "      <td>21214</td>\n",
       "      <td>5c63a4aa-9828-4f6f-b181-7e71b4af24fa</td>\n",
       "      <td>jpg</td>\n",
       "      <td>True</td>\n",
       "    </tr>\n",
       "    <tr>\n",
       "      <th>4</th>\n",
       "      <td>92c703d0-20f1-4da9-af9c-2a6bdb6db53b</td>\n",
       "      <td>21217</td>\n",
       "      <td>e9bfdce3-556c-4506-890b-9e65d241a929</td>\n",
       "      <td>jpg</td>\n",
       "      <td>True</td>\n",
       "    </tr>\n",
       "  </tbody>\n",
       "</table>\n",
       "</div>"
      ],
      "text/plain": [
       "\n",
       "                             photo_uuid  photo_id  \\\n",
       "\u001b[1;36m0\u001b[0m  \u001b[93m8d6b2534-d30a-47a8-bc1c-986a21817997\u001b[0m     \u001b[1;36m21213\u001b[0m   \n",
       "\u001b[1;36m1\u001b[0m  \u001b[93m6e8112fd-f703-4052-94da-b7cfc03ff3d4\u001b[0m     \u001b[1;36m21216\u001b[0m   \n",
       "\u001b[1;36m2\u001b[0m  \u001b[93m49141c2f-48b0-4671-9cee-fce6efd11822\u001b[0m     \u001b[1;36m21215\u001b[0m   \n",
       "\u001b[1;36m3\u001b[0m  \u001b[93m71090faa-9110-4df7-bb8f-af2415fe2e72\u001b[0m     \u001b[1;36m21214\u001b[0m   \n",
       "\u001b[1;36m4\u001b[0m  \u001b[93m92c703d0-20f1-4da9-af9c-2a6bdb6db53b\u001b[0m     \u001b[1;36m21217\u001b[0m   \n",
       "\n",
       "                       observation_uuid extension  processed  \n",
       "\u001b[1;36m0\u001b[0m  \u001b[93m7ae155fc-f49e-4e4f-91c5-51e31e805478\u001b[0m       jpg       \u001b[3;92mTrue\u001b[0m  \n",
       "\u001b[1;36m1\u001b[0m  \u001b[93m7ae155fc-f49e-4e4f-91c5-51e31e805478\u001b[0m       jpg       \u001b[3;92mTrue\u001b[0m  \n",
       "\u001b[1;36m2\u001b[0m  \u001b[93m05baefa2-028c-4c6a-b459-37f7161ca374\u001b[0m       jpg       \u001b[3;92mTrue\u001b[0m  \n",
       "\u001b[1;36m3\u001b[0m  \u001b[93m5c63a4aa-9828-4f6f-b181-7e71b4af24fa\u001b[0m       jpg       \u001b[3;92mTrue\u001b[0m  \n",
       "\u001b[1;36m4\u001b[0m  \u001b[93me9bfdce3-556c-4506-890b-9e65d241a929\u001b[0m       jpg       \u001b[3;92mTrue\u001b[0m  "
      ]
     },
     "execution_count": 43,
     "metadata": {},
     "output_type": "execute_result"
    }
   ],
   "source": [
    "processed_photos = pd.read_csv('/Volumes/Ramirez/inaturalist-open-data/processed/photos.csv',nrows=40000)\n",
    "processed_photos.head()"
   ]
  },
  {
   "cell_type": "code",
   "execution_count": 11,
   "metadata": {},
   "outputs": [
    {
     "data": {
      "text/html": [
       "<pre style=\"white-space:pre;overflow-x:auto;line-height:normal;font-family:Menlo,'DejaVu Sans Mono',consolas,'Courier New',monospace\"></pre>\n"
      ],
      "text/plain": []
     },
     "metadata": {},
     "output_type": "display_data"
    },
    {
     "data": {
      "text/plain": [
       "\n",
       "photo_uuid          \u001b[1;36m0\u001b[0m\n",
       "photo_id            \u001b[1;36m0\u001b[0m\n",
       "observation_uuid    \u001b[1;36m0\u001b[0m\n",
       "extension           \u001b[1;36m0\u001b[0m\n",
       "processed           \u001b[1;36m0\u001b[0m\n",
       "dtype: int64"
      ]
     },
     "execution_count": 11,
     "metadata": {},
     "output_type": "execute_result"
    }
   ],
   "source": [
    "processed_photos.isnull().sum()"
   ]
  },
  {
   "cell_type": "code",
   "execution_count": 27,
   "metadata": {},
   "outputs": [
    {
     "data": {
      "text/html": [
       "<pre style=\"white-space:pre;overflow-x:auto;line-height:normal;font-family:Menlo,'DejaVu Sans Mono',consolas,'Courier New',monospace\"></pre>\n"
      ],
      "text/plain": []
     },
     "metadata": {},
     "output_type": "display_data"
    },
    {
     "data": {
      "text/plain": [
       "\n",
       "photo_uuid          object\n",
       "photo_id             int64\n",
       "observation_uuid    object\n",
       "extension           object\n",
       "processed             bool\n",
       "dtype: object"
      ]
     },
     "execution_count": 27,
     "metadata": {},
     "output_type": "execute_result"
    }
   ],
   "source": [
    "processed_photos.dtypes"
   ]
  },
  {
   "cell_type": "markdown",
   "metadata": {},
   "source": [
    "The photo_id and extension can be used to fetch the appropriate photo files from among the tens of millions in the iNaturalist Open Dataset. The file path in the S3 bucket is s3://inaturalist-open-data/photos/[photo_id]/medium.[extension], and the file URL is https://inaturalist-open-data.s3.amazonaws.com/photos/[photo_id]/medium.[extension].\n",
    "\n",
    "https://inaturalist-open-data.s3.amazonaws.com/photos/21213/medium.jpg\n",
    "s3://inaturalist-open-data/photos/21213/medium.jpg\n",
    "s3://inaturalist-open-data/photos/[photo_id]/medium.[extension]\n",
    "\n",
    "original - 2048px\n",
    "large - 1024px\n",
    "medium - 500px\n",
    "small - 240px\n",
    "thumb - 100px\n",
    "square - exactly 75x75px, cropped to be square"
   ]
  },
  {
   "cell_type": "code",
   "execution_count": 36,
   "metadata": {},
   "outputs": [
    {
     "name": "stdout",
     "output_type": "stream",
     "text": [
      "21213\n",
      "ext jpg\n",
      "s3://inaturalist-open-data/photos/21213/medium.jpg\n"
     ]
    }
   ],
   "source": [
    "photo_id = processed_photos['photo_id'].iloc[0]\n",
    "print(photo_id)\n",
    "ext = processed_photos['extension'].iloc[0]\n",
    "ext = processed_photos['extension'].astype('string').iloc[0]\n",
    "print(\"ext\",ext)\n",
    "link = 's3://inaturalist-open-data/photos/'+str(photo_id)+'/medium'+'.'+ext\n",
    "print(link)\n",
    "\n"
   ]
  },
  {
   "cell_type": "code",
   "execution_count": 38,
   "metadata": {},
   "outputs": [
    {
     "data": {
      "text/html": [
       "<pre style=\"white-space:pre;overflow-x:auto;line-height:normal;font-family:Menlo,'DejaVu Sans Mono',consolas,'Courier New',monospace\"></pre>\n"
      ],
      "text/plain": []
     },
     "metadata": {},
     "output_type": "display_data"
    },
    {
     "data": {
      "text/html": [
       "<div>\n",
       "<style scoped>\n",
       "    .dataframe tbody tr th:only-of-type {\n",
       "        vertical-align: middle;\n",
       "    }\n",
       "\n",
       "    .dataframe tbody tr th {\n",
       "        vertical-align: top;\n",
       "    }\n",
       "\n",
       "    .dataframe thead th {\n",
       "        text-align: right;\n",
       "    }\n",
       "</style>\n",
       "<table border=\"1\" class=\"dataframe\">\n",
       "  <thead>\n",
       "    <tr style=\"text-align: right;\">\n",
       "      <th></th>\n",
       "      <th>taxon_id</th>\n",
       "      <th>ancestry</th>\n",
       "      <th>rank_level</th>\n",
       "      <th>rank</th>\n",
       "      <th>name</th>\n",
       "      <th>active</th>\n",
       "    </tr>\n",
       "  </thead>\n",
       "  <tbody>\n",
       "    <tr>\n",
       "      <th>0</th>\n",
       "      <td>8943</td>\n",
       "      <td>48460/1/2/355675/3/7251/980017</td>\n",
       "      <td>20.0</td>\n",
       "      <td>genus</td>\n",
       "      <td>Calyptura</td>\n",
       "      <td>True</td>\n",
       "    </tr>\n",
       "    <tr>\n",
       "      <th>1</th>\n",
       "      <td>5270</td>\n",
       "      <td>48460/1/2/355675/3/71261/5067/5269</td>\n",
       "      <td>10.0</td>\n",
       "      <td>species</td>\n",
       "      <td>Ichthyophaga ichthyaetus</td>\n",
       "      <td>False</td>\n",
       "    </tr>\n",
       "    <tr>\n",
       "      <th>2</th>\n",
       "      <td>2031</td>\n",
       "      <td>48460/1/2/355675/3/573/2017/2030</td>\n",
       "      <td>10.0</td>\n",
       "      <td>species</td>\n",
       "      <td>Talegalla jobiensis</td>\n",
       "      <td>True</td>\n",
       "    </tr>\n",
       "    <tr>\n",
       "      <th>3</th>\n",
       "      <td>27</td>\n",
       "      <td>48460/1/2/355675/3/4/23/24</td>\n",
       "      <td>10.0</td>\n",
       "      <td>species</td>\n",
       "      <td>Grus canadensis</td>\n",
       "      <td>False</td>\n",
       "    </tr>\n",
       "    <tr>\n",
       "      <th>4</th>\n",
       "      <td>8606</td>\n",
       "      <td>48460/1/2/355675/3/7251/71348/8605</td>\n",
       "      <td>10.0</td>\n",
       "      <td>species</td>\n",
       "      <td>Lophorina superba</td>\n",
       "      <td>False</td>\n",
       "    </tr>\n",
       "  </tbody>\n",
       "</table>\n",
       "</div>"
      ],
      "text/plain": [
       "\n",
       "   taxon_id                            ancestry  rank_level     rank  \\\n",
       "\u001b[1;36m0\u001b[0m      \u001b[1;36m8943\u001b[0m      \u001b[1;36m48460\u001b[0m/\u001b[1;36m1\u001b[0m/\u001b[1;36m2\u001b[0m/\u001b[1;36m355675\u001b[0m/\u001b[1;36m3\u001b[0m/\u001b[1;36m7251\u001b[0m/\u001b[1;36m980017\u001b[0m        \u001b[1;36m20.0\u001b[0m    genus   \n",
       "\u001b[1;36m1\u001b[0m      \u001b[1;36m5270\u001b[0m  \u001b[1;36m48460\u001b[0m/\u001b[1;36m1\u001b[0m/\u001b[1;36m2\u001b[0m/\u001b[1;36m355675\u001b[0m/\u001b[1;36m3\u001b[0m/\u001b[1;36m71261\u001b[0m/\u001b[1;36m5067\u001b[0m/\u001b[1;36m5269\u001b[0m        \u001b[1;36m10.0\u001b[0m  species   \n",
       "\u001b[1;36m2\u001b[0m      \u001b[1;36m2031\u001b[0m    \u001b[1;36m48460\u001b[0m/\u001b[1;36m1\u001b[0m/\u001b[1;36m2\u001b[0m/\u001b[1;36m355675\u001b[0m/\u001b[1;36m3\u001b[0m/\u001b[1;36m573\u001b[0m/\u001b[1;36m2017\u001b[0m/\u001b[1;36m2030\u001b[0m        \u001b[1;36m10.0\u001b[0m  species   \n",
       "\u001b[1;36m3\u001b[0m        \u001b[1;36m27\u001b[0m          \u001b[1;36m48460\u001b[0m/\u001b[1;36m1\u001b[0m/\u001b[1;36m2\u001b[0m/\u001b[1;36m355675\u001b[0m/\u001b[1;36m3\u001b[0m/\u001b[1;36m4\u001b[0m/\u001b[1;36m23\u001b[0m/\u001b[1;36m24\u001b[0m        \u001b[1;36m10.0\u001b[0m  species   \n",
       "\u001b[1;36m4\u001b[0m      \u001b[1;36m8606\u001b[0m  \u001b[1;36m48460\u001b[0m/\u001b[1;36m1\u001b[0m/\u001b[1;36m2\u001b[0m/\u001b[1;36m355675\u001b[0m/\u001b[1;36m3\u001b[0m/\u001b[1;36m7251\u001b[0m/\u001b[1;36m71348\u001b[0m/\u001b[1;36m8605\u001b[0m        \u001b[1;36m10.0\u001b[0m  species   \n",
       "\n",
       "                       name  active  \n",
       "\u001b[1;36m0\u001b[0m                 Calyptura    \u001b[3;92mTrue\u001b[0m  \n",
       "\u001b[1;36m1\u001b[0m  Ichthyophaga ichthyaetus   \u001b[3;91mFalse\u001b[0m  \n",
       "\u001b[1;36m2\u001b[0m       Talegalla jobiensis    \u001b[3;92mTrue\u001b[0m  \n",
       "\u001b[1;36m3\u001b[0m           Grus canadensis   \u001b[3;91mFalse\u001b[0m  \n",
       "\u001b[1;36m4\u001b[0m         Lophorina superba   \u001b[3;91mFalse\u001b[0m  "
      ]
     },
     "execution_count": 38,
     "metadata": {},
     "output_type": "execute_result"
    }
   ],
   "source": [
    "taxon = pd.read_csv('/Users/nandapop/Documents/Bootcamp/iNaturalist/data/raw/taxa.csv', sep='\\t')\n",
    "taxon.head()"
   ]
  },
  {
   "cell_type": "code",
   "execution_count": 39,
   "metadata": {},
   "outputs": [
    {
     "name": "stdout",
     "output_type": "stream",
     "text": [
      "<class 'pandas.core.frame.DataFrame'>\n",
      "RangeIndex: 1534935 entries, 0 to 1534934\n",
      "Data columns (total 6 columns):\n",
      " #   Column      Non-Null Count    Dtype  \n",
      "---  ------      --------------    -----  \n",
      " 0   taxon_id    1534935 non-null  int64  \n",
      " 1   ancestry    1523077 non-null  object \n",
      " 2   rank_level  1534903 non-null  float64\n",
      " 3   rank        1534935 non-null  object \n",
      " 4   name        1534935 non-null  object \n",
      " 5   active      1534935 non-null  bool   \n",
      "dtypes: bool(1), float64(1), int64(1), object(3)\n",
      "memory usage: 60.0+ MB\n"
     ]
    }
   ],
   "source": [
    "taxon.info()"
   ]
  },
  {
   "cell_type": "code",
   "execution_count": 61,
   "metadata": {},
   "outputs": [
    {
     "data": {
      "text/html": [
       "<pre style=\"white-space:pre;overflow-x:auto;line-height:normal;font-family:Menlo,'DejaVu Sans Mono',consolas,'Courier New',monospace\"></pre>\n"
      ],
      "text/plain": []
     },
     "metadata": {},
     "output_type": "display_data"
    },
    {
     "data": {
      "text/plain": [
       "\n",
       "taxon_id          \u001b[1;36m0\u001b[0m\n",
       "ancestry      \u001b[1;36m11858\u001b[0m\n",
       "rank_level       \u001b[1;36m32\u001b[0m\n",
       "rank              \u001b[1;36m0\u001b[0m\n",
       "name              \u001b[1;36m0\u001b[0m\n",
       "active            \u001b[1;36m0\u001b[0m\n",
       "dtype: int64"
      ]
     },
     "execution_count": 61,
     "metadata": {},
     "output_type": "execute_result"
    }
   ],
   "source": [
    "taxon.isnull().sum()"
   ]
  },
  {
   "cell_type": "code",
   "execution_count": 62,
   "metadata": {},
   "outputs": [],
   "source": [
    "taxon = taxon.dropna()"
   ]
  },
  {
   "cell_type": "code",
   "execution_count": 81,
   "metadata": {},
   "outputs": [],
   "source": [
    "obs_taxon = pd.merge(chunk_observations2, taxon, on = \"taxon_id\")\n",
    "obs_taxon.to_csv(\"/Users/nandapop/Documents/Bootcamp/iNaturalist/data/processed/obs_taxon.csv\")"
   ]
  },
  {
   "cell_type": "code",
   "execution_count": 82,
   "metadata": {},
   "outputs": [
    {
     "data": {
      "text/html": [
       "<pre style=\"white-space:pre;overflow-x:auto;line-height:normal;font-family:Menlo,'DejaVu Sans Mono',consolas,'Courier New',monospace\"></pre>\n"
      ],
      "text/plain": []
     },
     "metadata": {},
     "output_type": "display_data"
    },
    {
     "data": {
      "text/html": [
       "<div>\n",
       "<style scoped>\n",
       "    .dataframe tbody tr th:only-of-type {\n",
       "        vertical-align: middle;\n",
       "    }\n",
       "\n",
       "    .dataframe tbody tr th {\n",
       "        vertical-align: top;\n",
       "    }\n",
       "\n",
       "    .dataframe thead th {\n",
       "        text-align: right;\n",
       "    }\n",
       "</style>\n",
       "<table border=\"1\" class=\"dataframe\">\n",
       "  <thead>\n",
       "    <tr style=\"text-align: right;\">\n",
       "      <th></th>\n",
       "      <th>observation_uuid</th>\n",
       "      <th>observer_id</th>\n",
       "      <th>latitude</th>\n",
       "      <th>longitude</th>\n",
       "      <th>positional_accuracy</th>\n",
       "      <th>taxon_id</th>\n",
       "      <th>quality_grade</th>\n",
       "      <th>observed_on</th>\n",
       "      <th>ancestry</th>\n",
       "      <th>rank_level</th>\n",
       "      <th>rank</th>\n",
       "      <th>name</th>\n",
       "      <th>active</th>\n",
       "    </tr>\n",
       "  </thead>\n",
       "  <tbody>\n",
       "    <tr>\n",
       "      <th>0</th>\n",
       "      <td>b351c847-d2c6-412d-8d17-a58158893a31</td>\n",
       "      <td>516</td>\n",
       "      <td>32.767629</td>\n",
       "      <td>-117.233902</td>\n",
       "      <td>29066.0</td>\n",
       "      <td>41478.0</td>\n",
       "      <td>research</td>\n",
       "      <td>2011-01-16</td>\n",
       "      <td>48460/1/2/355675/40151/848317/848320/848324/15...</td>\n",
       "      <td>10.0</td>\n",
       "      <td>species</td>\n",
       "      <td>Eschrichtius robustus</td>\n",
       "      <td>True</td>\n",
       "    </tr>\n",
       "    <tr>\n",
       "      <th>1</th>\n",
       "      <td>8ad4179c-6e49-49c4-9a99-2f3019ddb573</td>\n",
       "      <td>516</td>\n",
       "      <td>34.404714</td>\n",
       "      <td>-119.692740</td>\n",
       "      <td>28818.0</td>\n",
       "      <td>4209.0</td>\n",
       "      <td>research</td>\n",
       "      <td>2008-02-12</td>\n",
       "      <td>48460/1/2/355675/3/67563/4203/4204</td>\n",
       "      <td>10.0</td>\n",
       "      <td>species</td>\n",
       "      <td>Podiceps auritus</td>\n",
       "      <td>True</td>\n",
       "    </tr>\n",
       "    <tr>\n",
       "      <th>2</th>\n",
       "      <td>79a60b82-6f37-4eb2-b17c-4a628f9314af</td>\n",
       "      <td>516</td>\n",
       "      <td>-43.803666</td>\n",
       "      <td>172.968262</td>\n",
       "      <td>27411.0</td>\n",
       "      <td>4848.0</td>\n",
       "      <td>research</td>\n",
       "      <td>2007-06-17</td>\n",
       "      <td>48460/1/2/355675/3/67561/71325/4837</td>\n",
       "      <td>10.0</td>\n",
       "      <td>species</td>\n",
       "      <td>Haematopus unicolor</td>\n",
       "      <td>True</td>\n",
       "    </tr>\n",
       "    <tr>\n",
       "      <th>3</th>\n",
       "      <td>c117a8f1-e73e-4cc9-8c34-36ff4441b72b</td>\n",
       "      <td>516</td>\n",
       "      <td>-43.942181</td>\n",
       "      <td>172.875589</td>\n",
       "      <td>27411.0</td>\n",
       "      <td>204520.0</td>\n",
       "      <td>research</td>\n",
       "      <td>2007-06-17</td>\n",
       "      <td>48460/1/2/355675/3/2708/2715/3484</td>\n",
       "      <td>10.0</td>\n",
       "      <td>species</td>\n",
       "      <td>Hemiphaga novaeseelandiae</td>\n",
       "      <td>True</td>\n",
       "    </tr>\n",
       "    <tr>\n",
       "      <th>4</th>\n",
       "      <td>4f95b972-dd7f-47af-babd-02ce30b3eda0</td>\n",
       "      <td>516</td>\n",
       "      <td>32.914267</td>\n",
       "      <td>-110.733779</td>\n",
       "      <td>29039.0</td>\n",
       "      <td>12024.0</td>\n",
       "      <td>research</td>\n",
       "      <td>2008-10-11</td>\n",
       "      <td>48460/1/2/355675/3/7251/12015/12016</td>\n",
       "      <td>10.0</td>\n",
       "      <td>species</td>\n",
       "      <td>Lanius ludovicianus</td>\n",
       "      <td>True</td>\n",
       "    </tr>\n",
       "  </tbody>\n",
       "</table>\n",
       "</div>"
      ],
      "text/plain": [
       "\n",
       "                       observation_uuid  observer_id   latitude   longitude  \\\n",
       "\u001b[1;36m0\u001b[0m  \u001b[93mb351c847-d2c6-412d-8d17-a58158893a31\u001b[0m          \u001b[1;36m516\u001b[0m  \u001b[1;36m32.767629\u001b[0m \u001b[1;36m-117.233902\u001b[0m   \n",
       "\u001b[1;36m1\u001b[0m  \u001b[93m8ad4179c-6e49-49c4-9a99-2f3019ddb573\u001b[0m          \u001b[1;36m516\u001b[0m  \u001b[1;36m34.404714\u001b[0m \u001b[1;36m-119.692740\u001b[0m   \n",
       "\u001b[1;36m2\u001b[0m  \u001b[93m79a60b82-6f37-4eb2-b17c-4a628f9314af\u001b[0m          \u001b[1;36m516\u001b[0m \u001b[1;36m-43.803666\u001b[0m  \u001b[1;36m172.968262\u001b[0m   \n",
       "\u001b[1;36m3\u001b[0m  \u001b[93mc117a8f1-e73e-4cc9-8c34-36ff4441b72b\u001b[0m          \u001b[1;36m516\u001b[0m \u001b[1;36m-43.942181\u001b[0m  \u001b[1;36m172.875589\u001b[0m   \n",
       "\u001b[1;36m4\u001b[0m  \u001b[93m4f95b972-dd7f-47af-babd-02ce30b3eda0\u001b[0m          \u001b[1;36m516\u001b[0m  \u001b[1;36m32.914267\u001b[0m \u001b[1;36m-110.733779\u001b[0m   \n",
       "\n",
       "   positional_accuracy  taxon_id quality_grade observed_on  \\\n",
       "\u001b[1;36m0\u001b[0m              \u001b[1;36m29066.0\u001b[0m   \u001b[1;36m41478.0\u001b[0m      research  \u001b[1;36m2011\u001b[0m-\u001b[1;36m01\u001b[0m-\u001b[1;36m16\u001b[0m   \n",
       "\u001b[1;36m1\u001b[0m              \u001b[1;36m28818.0\u001b[0m    \u001b[1;36m4209.0\u001b[0m      research  \u001b[1;36m2008\u001b[0m-\u001b[1;36m02\u001b[0m-\u001b[1;36m12\u001b[0m   \n",
       "\u001b[1;36m2\u001b[0m              \u001b[1;36m27411.0\u001b[0m    \u001b[1;36m4848.0\u001b[0m      research  \u001b[1;36m2007\u001b[0m-\u001b[1;36m06\u001b[0m-\u001b[1;36m17\u001b[0m   \n",
       "\u001b[1;36m3\u001b[0m              \u001b[1;36m27411.0\u001b[0m  \u001b[1;36m204520.0\u001b[0m      research  \u001b[1;36m2007\u001b[0m-\u001b[1;36m06\u001b[0m-\u001b[1;36m17\u001b[0m   \n",
       "\u001b[1;36m4\u001b[0m              \u001b[1;36m29039.0\u001b[0m   \u001b[1;36m12024.0\u001b[0m      research  \u001b[1;36m2008\u001b[0m-\u001b[1;36m10\u001b[0m-\u001b[1;36m11\u001b[0m   \n",
       "\n",
       "                                            ancestry  rank_level     rank  \\\n",
       "\u001b[1;36m0\u001b[0m  \u001b[1;36m48460\u001b[0m/\u001b[1;36m1\u001b[0m/\u001b[1;36m2\u001b[0m/\u001b[1;36m355675\u001b[0m/\u001b[1;36m40151\u001b[0m/\u001b[1;36m848317\u001b[0m/\u001b[1;36m848320\u001b[0m/\u001b[1;36m848324\u001b[0m/\u001b[1;36m15\u001b[0m\u001b[33m...\u001b[0m        \u001b[1;36m10.0\u001b[0m  species   \n",
       "\u001b[1;36m1\u001b[0m                 \u001b[1;36m48460\u001b[0m/\u001b[1;36m1\u001b[0m/\u001b[1;36m2\u001b[0m/\u001b[1;36m355675\u001b[0m/\u001b[1;36m3\u001b[0m/\u001b[1;36m67563\u001b[0m/\u001b[1;36m4203\u001b[0m/\u001b[1;36m4204\u001b[0m        \u001b[1;36m10.0\u001b[0m  species   \n",
       "\u001b[1;36m2\u001b[0m                \u001b[1;36m48460\u001b[0m/\u001b[1;36m1\u001b[0m/\u001b[1;36m2\u001b[0m/\u001b[1;36m355675\u001b[0m/\u001b[1;36m3\u001b[0m/\u001b[1;36m67561\u001b[0m/\u001b[1;36m71325\u001b[0m/\u001b[1;36m4837\u001b[0m        \u001b[1;36m10.0\u001b[0m  species   \n",
       "\u001b[1;36m3\u001b[0m                  \u001b[1;36m48460\u001b[0m/\u001b[1;36m1\u001b[0m/\u001b[1;36m2\u001b[0m/\u001b[1;36m355675\u001b[0m/\u001b[1;36m3\u001b[0m/\u001b[1;36m2708\u001b[0m/\u001b[1;36m2715\u001b[0m/\u001b[1;36m3484\u001b[0m        \u001b[1;36m10.0\u001b[0m  species   \n",
       "\u001b[1;36m4\u001b[0m                \u001b[1;36m48460\u001b[0m/\u001b[1;36m1\u001b[0m/\u001b[1;36m2\u001b[0m/\u001b[1;36m355675\u001b[0m/\u001b[1;36m3\u001b[0m/\u001b[1;36m7251\u001b[0m/\u001b[1;36m12015\u001b[0m/\u001b[1;36m12016\u001b[0m        \u001b[1;36m10.0\u001b[0m  species   \n",
       "\n",
       "                        name  active  \n",
       "\u001b[1;36m0\u001b[0m      Eschrichtius robustus    \u001b[3;92mTrue\u001b[0m  \n",
       "\u001b[1;36m1\u001b[0m           Podiceps auritus    \u001b[3;92mTrue\u001b[0m  \n",
       "\u001b[1;36m2\u001b[0m        Haematopus unicolor    \u001b[3;92mTrue\u001b[0m  \n",
       "\u001b[1;36m3\u001b[0m  Hemiphaga novaeseelandiae    \u001b[3;92mTrue\u001b[0m  \n",
       "\u001b[1;36m4\u001b[0m        Lanius ludovicianus    \u001b[3;92mTrue\u001b[0m  "
      ]
     },
     "execution_count": 82,
     "metadata": {},
     "output_type": "execute_result"
    }
   ],
   "source": [
    "obs_taxon.head()"
   ]
  },
  {
   "cell_type": "code",
   "execution_count": 83,
   "metadata": {},
   "outputs": [],
   "source": [
    "new_df = pd.merge( obs_taxon,processed_photos, on= \"observation_uuid\" )\n",
    "new_df.to_csv('/Volumes/Ramirez/inaturalist-open-data/processed/new_df.csv',index=False)\n"
   ]
  },
  {
   "cell_type": "code",
   "execution_count": 84,
   "metadata": {},
   "outputs": [
    {
     "data": {
      "text/html": [
       "<pre style=\"white-space:pre;overflow-x:auto;line-height:normal;font-family:Menlo,'DejaVu Sans Mono',consolas,'Courier New',monospace\"></pre>\n"
      ],
      "text/plain": []
     },
     "metadata": {},
     "output_type": "display_data"
    },
    {
     "data": {
      "text/html": [
       "<div>\n",
       "<style scoped>\n",
       "    .dataframe tbody tr th:only-of-type {\n",
       "        vertical-align: middle;\n",
       "    }\n",
       "\n",
       "    .dataframe tbody tr th {\n",
       "        vertical-align: top;\n",
       "    }\n",
       "\n",
       "    .dataframe thead th {\n",
       "        text-align: right;\n",
       "    }\n",
       "</style>\n",
       "<table border=\"1\" class=\"dataframe\">\n",
       "  <thead>\n",
       "    <tr style=\"text-align: right;\">\n",
       "      <th></th>\n",
       "      <th>observation_uuid</th>\n",
       "      <th>observer_id</th>\n",
       "      <th>latitude</th>\n",
       "      <th>longitude</th>\n",
       "      <th>positional_accuracy</th>\n",
       "      <th>taxon_id</th>\n",
       "      <th>quality_grade</th>\n",
       "      <th>observed_on</th>\n",
       "      <th>ancestry</th>\n",
       "      <th>rank_level</th>\n",
       "      <th>rank</th>\n",
       "      <th>name</th>\n",
       "      <th>active</th>\n",
       "      <th>photo_uuid</th>\n",
       "      <th>photo_id</th>\n",
       "      <th>extension</th>\n",
       "      <th>processed</th>\n",
       "    </tr>\n",
       "  </thead>\n",
       "  <tbody>\n",
       "    <tr>\n",
       "      <th>0</th>\n",
       "      <td>b351c847-d2c6-412d-8d17-a58158893a31</td>\n",
       "      <td>516</td>\n",
       "      <td>32.767629</td>\n",
       "      <td>-117.233902</td>\n",
       "      <td>29066.0</td>\n",
       "      <td>41478.0</td>\n",
       "      <td>research</td>\n",
       "      <td>2011-01-16</td>\n",
       "      <td>48460/1/2/355675/40151/848317/848320/848324/15...</td>\n",
       "      <td>10.0</td>\n",
       "      <td>species</td>\n",
       "      <td>Eschrichtius robustus</td>\n",
       "      <td>True</td>\n",
       "      <td>7df0719d-50c7-48e1-92e5-c712b1d4386b</td>\n",
       "      <td>21362</td>\n",
       "      <td>jpg</td>\n",
       "      <td>True</td>\n",
       "    </tr>\n",
       "    <tr>\n",
       "      <th>1</th>\n",
       "      <td>b351c847-d2c6-412d-8d17-a58158893a31</td>\n",
       "      <td>516</td>\n",
       "      <td>32.767629</td>\n",
       "      <td>-117.233902</td>\n",
       "      <td>29066.0</td>\n",
       "      <td>41478.0</td>\n",
       "      <td>research</td>\n",
       "      <td>2011-01-16</td>\n",
       "      <td>48460/1/2/355675/40151/848317/848320/848324/15...</td>\n",
       "      <td>10.0</td>\n",
       "      <td>species</td>\n",
       "      <td>Eschrichtius robustus</td>\n",
       "      <td>True</td>\n",
       "      <td>00883152-c9ea-4738-90e2-6b30e79b5527</td>\n",
       "      <td>21363</td>\n",
       "      <td>jpg</td>\n",
       "      <td>True</td>\n",
       "    </tr>\n",
       "    <tr>\n",
       "      <th>2</th>\n",
       "      <td>b351c847-d2c6-412d-8d17-a58158893a31</td>\n",
       "      <td>516</td>\n",
       "      <td>32.767629</td>\n",
       "      <td>-117.233902</td>\n",
       "      <td>29066.0</td>\n",
       "      <td>41478.0</td>\n",
       "      <td>research</td>\n",
       "      <td>2011-01-16</td>\n",
       "      <td>48460/1/2/355675/40151/848317/848320/848324/15...</td>\n",
       "      <td>10.0</td>\n",
       "      <td>species</td>\n",
       "      <td>Eschrichtius robustus</td>\n",
       "      <td>True</td>\n",
       "      <td>28c8ae54-51a4-4c56-b7da-69400039144c</td>\n",
       "      <td>21364</td>\n",
       "      <td>jpg</td>\n",
       "      <td>True</td>\n",
       "    </tr>\n",
       "    <tr>\n",
       "      <th>3</th>\n",
       "      <td>8ad4179c-6e49-49c4-9a99-2f3019ddb573</td>\n",
       "      <td>516</td>\n",
       "      <td>34.404714</td>\n",
       "      <td>-119.692740</td>\n",
       "      <td>28818.0</td>\n",
       "      <td>4209.0</td>\n",
       "      <td>research</td>\n",
       "      <td>2008-02-12</td>\n",
       "      <td>48460/1/2/355675/3/67563/4203/4204</td>\n",
       "      <td>10.0</td>\n",
       "      <td>species</td>\n",
       "      <td>Podiceps auritus</td>\n",
       "      <td>True</td>\n",
       "      <td>9b8022a6-5908-43d5-8e9b-3642422391ea</td>\n",
       "      <td>21419</td>\n",
       "      <td>jpg</td>\n",
       "      <td>True</td>\n",
       "    </tr>\n",
       "    <tr>\n",
       "      <th>4</th>\n",
       "      <td>79a60b82-6f37-4eb2-b17c-4a628f9314af</td>\n",
       "      <td>516</td>\n",
       "      <td>-43.803666</td>\n",
       "      <td>172.968262</td>\n",
       "      <td>27411.0</td>\n",
       "      <td>4848.0</td>\n",
       "      <td>research</td>\n",
       "      <td>2007-06-17</td>\n",
       "      <td>48460/1/2/355675/3/67561/71325/4837</td>\n",
       "      <td>10.0</td>\n",
       "      <td>species</td>\n",
       "      <td>Haematopus unicolor</td>\n",
       "      <td>True</td>\n",
       "      <td>71b5bbcb-4f8b-4f71-8cd8-700a27b9a0b1</td>\n",
       "      <td>21559</td>\n",
       "      <td>jpg</td>\n",
       "      <td>True</td>\n",
       "    </tr>\n",
       "  </tbody>\n",
       "</table>\n",
       "</div>"
      ],
      "text/plain": [
       "\n",
       "                       observation_uuid  observer_id   latitude   longitude  \\\n",
       "\u001b[1;36m0\u001b[0m  \u001b[93mb351c847-d2c6-412d-8d17-a58158893a31\u001b[0m          \u001b[1;36m516\u001b[0m  \u001b[1;36m32.767629\u001b[0m \u001b[1;36m-117.233902\u001b[0m   \n",
       "\u001b[1;36m1\u001b[0m  \u001b[93mb351c847-d2c6-412d-8d17-a58158893a31\u001b[0m          \u001b[1;36m516\u001b[0m  \u001b[1;36m32.767629\u001b[0m \u001b[1;36m-117.233902\u001b[0m   \n",
       "\u001b[1;36m2\u001b[0m  \u001b[93mb351c847-d2c6-412d-8d17-a58158893a31\u001b[0m          \u001b[1;36m516\u001b[0m  \u001b[1;36m32.767629\u001b[0m \u001b[1;36m-117.233902\u001b[0m   \n",
       "\u001b[1;36m3\u001b[0m  \u001b[93m8ad4179c-6e49-49c4-9a99-2f3019ddb573\u001b[0m          \u001b[1;36m516\u001b[0m  \u001b[1;36m34.404714\u001b[0m \u001b[1;36m-119.692740\u001b[0m   \n",
       "\u001b[1;36m4\u001b[0m  \u001b[93m79a60b82-6f37-4eb2-b17c-4a628f9314af\u001b[0m          \u001b[1;36m516\u001b[0m \u001b[1;36m-43.803666\u001b[0m  \u001b[1;36m172.968262\u001b[0m   \n",
       "\n",
       "   positional_accuracy  taxon_id quality_grade observed_on  \\\n",
       "\u001b[1;36m0\u001b[0m              \u001b[1;36m29066.0\u001b[0m   \u001b[1;36m41478.0\u001b[0m      research  \u001b[1;36m2011\u001b[0m-\u001b[1;36m01\u001b[0m-\u001b[1;36m16\u001b[0m   \n",
       "\u001b[1;36m1\u001b[0m              \u001b[1;36m29066.0\u001b[0m   \u001b[1;36m41478.0\u001b[0m      research  \u001b[1;36m2011\u001b[0m-\u001b[1;36m01\u001b[0m-\u001b[1;36m16\u001b[0m   \n",
       "\u001b[1;36m2\u001b[0m              \u001b[1;36m29066.0\u001b[0m   \u001b[1;36m41478.0\u001b[0m      research  \u001b[1;36m2011\u001b[0m-\u001b[1;36m01\u001b[0m-\u001b[1;36m16\u001b[0m   \n",
       "\u001b[1;36m3\u001b[0m              \u001b[1;36m28818.0\u001b[0m    \u001b[1;36m4209.0\u001b[0m      research  \u001b[1;36m2008\u001b[0m-\u001b[1;36m02\u001b[0m-\u001b[1;36m12\u001b[0m   \n",
       "\u001b[1;36m4\u001b[0m              \u001b[1;36m27411.0\u001b[0m    \u001b[1;36m4848.0\u001b[0m      research  \u001b[1;36m2007\u001b[0m-\u001b[1;36m06\u001b[0m-\u001b[1;36m17\u001b[0m   \n",
       "\n",
       "                                            ancestry  rank_level     rank  \\\n",
       "\u001b[1;36m0\u001b[0m  \u001b[1;36m48460\u001b[0m/\u001b[1;36m1\u001b[0m/\u001b[1;36m2\u001b[0m/\u001b[1;36m355675\u001b[0m/\u001b[1;36m40151\u001b[0m/\u001b[1;36m848317\u001b[0m/\u001b[1;36m848320\u001b[0m/\u001b[1;36m848324\u001b[0m/\u001b[1;36m15\u001b[0m\u001b[33m...\u001b[0m        \u001b[1;36m10.0\u001b[0m  species   \n",
       "\u001b[1;36m1\u001b[0m  \u001b[1;36m48460\u001b[0m/\u001b[1;36m1\u001b[0m/\u001b[1;36m2\u001b[0m/\u001b[1;36m355675\u001b[0m/\u001b[1;36m40151\u001b[0m/\u001b[1;36m848317\u001b[0m/\u001b[1;36m848320\u001b[0m/\u001b[1;36m848324\u001b[0m/\u001b[1;36m15\u001b[0m\u001b[33m...\u001b[0m        \u001b[1;36m10.0\u001b[0m  species   \n",
       "\u001b[1;36m2\u001b[0m  \u001b[1;36m48460\u001b[0m/\u001b[1;36m1\u001b[0m/\u001b[1;36m2\u001b[0m/\u001b[1;36m355675\u001b[0m/\u001b[1;36m40151\u001b[0m/\u001b[1;36m848317\u001b[0m/\u001b[1;36m848320\u001b[0m/\u001b[1;36m848324\u001b[0m/\u001b[1;36m15\u001b[0m\u001b[33m...\u001b[0m        \u001b[1;36m10.0\u001b[0m  species   \n",
       "\u001b[1;36m3\u001b[0m                 \u001b[1;36m48460\u001b[0m/\u001b[1;36m1\u001b[0m/\u001b[1;36m2\u001b[0m/\u001b[1;36m355675\u001b[0m/\u001b[1;36m3\u001b[0m/\u001b[1;36m67563\u001b[0m/\u001b[1;36m4203\u001b[0m/\u001b[1;36m4204\u001b[0m        \u001b[1;36m10.0\u001b[0m  species   \n",
       "\u001b[1;36m4\u001b[0m                \u001b[1;36m48460\u001b[0m/\u001b[1;36m1\u001b[0m/\u001b[1;36m2\u001b[0m/\u001b[1;36m355675\u001b[0m/\u001b[1;36m3\u001b[0m/\u001b[1;36m67561\u001b[0m/\u001b[1;36m71325\u001b[0m/\u001b[1;36m4837\u001b[0m        \u001b[1;36m10.0\u001b[0m  species   \n",
       "\n",
       "                    name  active                            photo_uuid  \\\n",
       "\u001b[1;36m0\u001b[0m  Eschrichtius robustus    \u001b[3;92mTrue\u001b[0m  \u001b[93m7df0719d-50c7-48e1-92e5-c712b1d4386b\u001b[0m   \n",
       "\u001b[1;36m1\u001b[0m  Eschrichtius robustus    \u001b[3;92mTrue\u001b[0m  \u001b[93m00883152-c9ea-4738-90e2-6b30e79b5527\u001b[0m   \n",
       "\u001b[1;36m2\u001b[0m  Eschrichtius robustus    \u001b[3;92mTrue\u001b[0m  \u001b[93m28c8ae54-51a4-4c56-b7da-69400039144c\u001b[0m   \n",
       "\u001b[1;36m3\u001b[0m       Podiceps auritus    \u001b[3;92mTrue\u001b[0m  \u001b[93m9b8022a6-5908-43d5-8e9b-3642422391ea\u001b[0m   \n",
       "\u001b[1;36m4\u001b[0m    Haematopus unicolor    \u001b[3;92mTrue\u001b[0m  \u001b[93m71b5bbcb-4f8b-4f71-8cd8-700a27b9a0b1\u001b[0m   \n",
       "\n",
       "   photo_id extension  processed  \n",
       "\u001b[1;36m0\u001b[0m     \u001b[1;36m21362\u001b[0m       jpg       \u001b[3;92mTrue\u001b[0m  \n",
       "\u001b[1;36m1\u001b[0m     \u001b[1;36m21363\u001b[0m       jpg       \u001b[3;92mTrue\u001b[0m  \n",
       "\u001b[1;36m2\u001b[0m     \u001b[1;36m21364\u001b[0m       jpg       \u001b[3;92mTrue\u001b[0m  \n",
       "\u001b[1;36m3\u001b[0m     \u001b[1;36m21419\u001b[0m       jpg       \u001b[3;92mTrue\u001b[0m  \n",
       "\u001b[1;36m4\u001b[0m     \u001b[1;36m21559\u001b[0m       jpg       \u001b[3;92mTrue\u001b[0m  "
      ]
     },
     "execution_count": 84,
     "metadata": {},
     "output_type": "execute_result"
    }
   ],
   "source": [
    "new_df.head()"
   ]
  },
  {
   "cell_type": "code",
   "execution_count": 85,
   "metadata": {},
   "outputs": [
    {
     "name": "stdout",
     "output_type": "stream",
     "text": [
      "       observation_uuid  observer_id  latitude  longitude  \\\n",
      "0                 False        False     False      False   \n",
      "1                 False        False     False      False   \n",
      "2                 False        False     False      False   \n",
      "3                 False        False     False      False   \n",
      "4                 False        False     False      False   \n",
      "...                 ...          ...       ...        ...   \n",
      "11767             False        False     False      False   \n",
      "11768             False        False     False      False   \n",
      "11769             False        False     False      False   \n",
      "11770             False        False     False      False   \n",
      "11771             False        False     False      False   \n",
      "\n",
      "       positional_accuracy  taxon_id  quality_grade  observed_on  ancestry  \\\n",
      "0                    False     False          False        False     False   \n",
      "1                    False     False          False        False     False   \n",
      "2                    False     False          False        False     False   \n",
      "3                    False     False          False        False     False   \n",
      "4                    False     False          False        False     False   \n",
      "...                    ...       ...            ...          ...       ...   \n",
      "11767                False     False          False        False     False   \n",
      "11768                False     False          False        False     False   \n",
      "11769                False     False          False        False     False   \n",
      "11770                False     False          False        False     False   \n",
      "11771                False     False          False        False     False   \n",
      "\n",
      "       rank_level   rank   name  active  photo_uuid  photo_id  extension  \\\n",
      "0           False  False  False   False       False     False      False   \n",
      "1           False  False  False   False       False     False      False   \n",
      "2           False  False  False   False       False     False      False   \n",
      "3           False  False  False   False       False     False      False   \n",
      "4           False  False  False   False       False     False      False   \n",
      "...           ...    ...    ...     ...         ...       ...        ...   \n",
      "11767       False  False  False   False       False     False      False   \n",
      "11768       False  False  False   False       False     False      False   \n",
      "11769       False  False  False   False       False     False      False   \n",
      "11770       False  False  False   False       False     False      False   \n",
      "11771       False  False  False   False       False     False      False   \n",
      "\n",
      "       processed  \n",
      "0          False  \n",
      "1          False  \n",
      "2          False  \n",
      "3          False  \n",
      "4          False  \n",
      "...          ...  \n",
      "11767      False  \n",
      "11768      False  \n",
      "11769      False  \n",
      "11770      False  \n",
      "11771      False  \n",
      "\n",
      "[11772 rows x 17 columns]\n"
     ]
    }
   ],
   "source": [
    "print(new_df.isin([46017,129411,45933,45994,1431495]))"
   ]
  }
 ],
 "metadata": {
  "kernelspec": {
   "display_name": "tf_m1_clean_env",
   "language": "python",
   "name": "python3"
  },
  "language_info": {
   "codemirror_mode": {
    "name": "ipython",
    "version": 3
   },
   "file_extension": ".py",
   "mimetype": "text/x-python",
   "name": "python",
   "nbconvert_exporter": "python",
   "pygments_lexer": "ipython3",
   "version": "3.10.15"
  }
 },
 "nbformat": 4,
 "nbformat_minor": 2
}
